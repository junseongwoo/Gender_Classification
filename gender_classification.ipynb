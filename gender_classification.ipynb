{
  "nbformat": 4,
  "nbformat_minor": 0,
  "metadata": {
    "colab": {
      "name": "gender_classification.ipynb",
      "provenance": [],
      "collapsed_sections": [],
      "authorship_tag": "ABX9TyOnTV/tsfTCUts3KVY1ysT4"
    },
    "kernelspec": {
      "name": "python3",
      "display_name": "Python 3"
    },
    "language_info": {
      "name": "python"
    },
    "accelerator": "GPU"
  },
  "cells": [
    {
      "cell_type": "code",
      "metadata": {
        "colab": {
          "base_uri": "https://localhost:8080/"
        },
        "id": "iwbESW2r7S1l",
        "outputId": "1cbd7439-fdbc-4999-ee5b-0aa0caf58a8a"
      },
      "source": [
        "from google.colab import drive\n",
        "drive.mount('/content/drive')"
      ],
      "execution_count": 1,
      "outputs": [
        {
          "output_type": "stream",
          "text": [
            "Mounted at /content/drive\n"
          ],
          "name": "stdout"
        }
      ]
    },
    {
      "cell_type": "code",
      "metadata": {
        "id": "vCEgkdoj_Isc"
      },
      "source": [
        "from PIL import Image\n",
        "import os, glob, numpy as np\n",
        "from sklearn.model_selection import train_test_split\n",
        "from keras.models import Sequential\n",
        "from keras.layers import Conv2D, MaxPool2D, Dense, Flatten, Dropout, BatchNormalization\n",
        "from tensorflow.keras import layers\n",
        "from keras.callbacks import EarlyStopping, ModelCheckpoint\n",
        "import matplotlib.pyplot as plt\n",
        "import tensorflow as tf"
      ],
      "execution_count": 2,
      "outputs": []
    },
    {
      "cell_type": "code",
      "metadata": {
        "colab": {
          "base_uri": "https://localhost:8080/"
        },
        "id": "ZNWGGo7hKqOM",
        "outputId": "69599b9d-e3f6-4f7f-d10f-6575a60c2676"
      },
      "source": [
        "caltech_dir = \"/content/drive/MyDrive/Colab Notebooks/gender_classification/dataset/train\"\n",
        "categories = [\"man\", \"woman\"]\n",
        "num_classes = len(categories)\n",
        "\n",
        "image_w = 128\n",
        "image_h = 128\n",
        "\n",
        "pixels = image_h * image_w * 3\n",
        "\n",
        "X = []\n",
        "y = []\n",
        "\n",
        "for idx, category in enumerate(categories):\n",
        "    \n",
        "    #one-hot 돌리기.\n",
        "    label = [0 for i in range(num_classes)]\n",
        "    label[idx] = 1\n",
        "\n",
        "    image_dir = caltech_dir + \"/\" + category\n",
        "    files = glob.glob(image_dir+\"/*.jpg\")\n",
        "    print(category, \" 파일 길이 : \", len(files))\n",
        "    for i, f in enumerate(files):\n",
        "        img = Image.open(f)\n",
        "        img = img.convert(\"RGB\")\n",
        "        img = img.resize((image_w, image_h))\n",
        "        data = np.asarray(img)\n",
        "\n",
        "        X.append(data)\n",
        "        y.append(label)\n",
        "\n",
        "        if i % 700 == 0:\n",
        "            print(category, \" : \", f)\n",
        "\n",
        "X = np.array(X)\n",
        "y = np.array(y)\n",
        "#1 0  이면 man\n",
        "#0 1  이면 woman 이런식\n",
        "\n",
        "\n",
        "X_train, X_test, y_train, y_test = train_test_split(X, y)\n",
        "xy = (X_train, X_test, y_train, y_test)\n",
        "np.save(\"/content/drive/MyDrive/Colab Notebooks/gender_classification/dataset/gender_data1.npy\", xy)\n",
        "\n",
        "print(\"ok\", len(y))"
      ],
      "execution_count": 6,
      "outputs": [
        {
          "output_type": "stream",
          "text": [
            "man  파일 길이 :  774\n",
            "man  :  /content/drive/MyDrive/Colab Notebooks/gender_classification/dataset/train/man/image_1007.jpg\n",
            "man  :  /content/drive/MyDrive/Colab Notebooks/gender_classification/dataset/train/man/image_1405.jpg\n",
            "woman  파일 길이 :  760\n",
            "woman  :  /content/drive/MyDrive/Colab Notebooks/gender_classification/dataset/train/woman/image_1006.jpg\n",
            "woman  :  /content/drive/MyDrive/Colab Notebooks/gender_classification/dataset/train/woman/image_931.jpg\n",
            "ok 1534\n"
          ],
          "name": "stdout"
        },
        {
          "output_type": "stream",
          "text": [
            "/usr/local/lib/python3.7/dist-packages/numpy/core/_asarray.py:136: VisibleDeprecationWarning: Creating an ndarray from ragged nested sequences (which is a list-or-tuple of lists-or-tuples-or ndarrays with different lengths or shapes) is deprecated. If you meant to do this, you must specify 'dtype=object' when creating the ndarray\n",
            "  return array(a, dtype, copy=False, order=order, subok=True)\n"
          ],
          "name": "stderr"
        }
      ]
    },
    {
      "cell_type": "code",
      "metadata": {
        "id": "rsrU3jWJL6q2"
      },
      "source": [
        "categories = [\"man\", \"woman\"]\n",
        "num_classes = len(categories)\n",
        "\n",
        "#일반화\n",
        "X_train = X_train.astype('float32') / 255.0\n",
        "X_test = X_test.astype('float32') / 255.0"
      ],
      "execution_count": 7,
      "outputs": []
    },
    {
      "cell_type": "code",
      "metadata": {
        "id": "ayoyQUwxD7SU"
      },
      "source": [
        "model = Sequential()\n",
        "model.add(Conv2D(64, 3, strides= 1, activation='relu', padding='same', input_shape=X_train.shape[1:]))\n",
        "model.add(Conv2D(64, 3, strides= 1, activation='relu', padding='same'))\n",
        "model.add(MaxPool2D((2,2), strides=2))\n",
        "model.add(BatchNormalization())\n",
        "\n",
        "model.add(Conv2D(128, 3, strides=1, activation='relu', padding='same'))\n",
        "model.add(Conv2D(128, 3, strides=1, activation='relu', padding='same'))\n",
        "model.add(MaxPool2D((2, 2), strides=2))\n",
        "model.add(BatchNormalization())\n",
        "\n",
        "model.add(Conv2D(256, 3, strides=1, activation='relu', padding='same'))\n",
        "model.add(Conv2D(256, 3, strides=1, activation='relu', padding='same'))\n",
        "model.add(Conv2D(256, 3, strides=1, activation='relu', padding='same'))\n",
        "model.add(MaxPool2D((2, 2), strides=2))\n",
        "model.add(BatchNormalization())\n",
        "\n",
        "model.add(Conv2D(512, 3, strides=1, activation='relu', padding='same'))\n",
        "model.add(Conv2D(512, 3, strides=1, activation='relu', padding='same'))\n",
        "model.add(Conv2D(512, 3, strides=1, activation='relu', padding='same'))\n",
        "model.add(MaxPool2D((2, 2), strides=2))\n",
        "model.add(BatchNormalization())\n",
        "model.add(MaxPool2D((2, 2), strides=2))\n",
        "model.add(BatchNormalization())\n",
        "\n",
        "model.add(Flatten())\n",
        "model.add(Dense(4096, activation='relu'))\n",
        "model.add(Dropout(0.5))\n",
        "model.add(Dense(4096, activation='relu'))\n",
        "model.add(Dropout(0.5))\n",
        "model.add(Dense(2, activation='softmax'))"
      ],
      "execution_count": 16,
      "outputs": []
    },
    {
      "cell_type": "code",
      "metadata": {
        "colab": {
          "base_uri": "https://localhost:8080/"
        },
        "id": "TTazsnhgFEdt",
        "outputId": "41a4c43f-873b-4f3b-f19b-1abe312b4a6e"
      },
      "source": [
        "model.summary()"
      ],
      "execution_count": 17,
      "outputs": [
        {
          "output_type": "stream",
          "text": [
            "Model: \"sequential_4\"\n",
            "_________________________________________________________________\n",
            "Layer (type)                 Output Shape              Param #   \n",
            "=================================================================\n",
            "conv2d_20 (Conv2D)           (None, 128, 128, 64)      1792      \n",
            "_________________________________________________________________\n",
            "conv2d_21 (Conv2D)           (None, 128, 128, 64)      36928     \n",
            "_________________________________________________________________\n",
            "max_pooling2d_10 (MaxPooling (None, 64, 64, 64)        0         \n",
            "_________________________________________________________________\n",
            "batch_normalization_10 (Batc (None, 64, 64, 64)        256       \n",
            "_________________________________________________________________\n",
            "conv2d_22 (Conv2D)           (None, 64, 64, 128)       73856     \n",
            "_________________________________________________________________\n",
            "conv2d_23 (Conv2D)           (None, 64, 64, 128)       147584    \n",
            "_________________________________________________________________\n",
            "max_pooling2d_11 (MaxPooling (None, 32, 32, 128)       0         \n",
            "_________________________________________________________________\n",
            "batch_normalization_11 (Batc (None, 32, 32, 128)       512       \n",
            "_________________________________________________________________\n",
            "conv2d_24 (Conv2D)           (None, 32, 32, 256)       295168    \n",
            "_________________________________________________________________\n",
            "conv2d_25 (Conv2D)           (None, 32, 32, 256)       590080    \n",
            "_________________________________________________________________\n",
            "conv2d_26 (Conv2D)           (None, 32, 32, 256)       590080    \n",
            "_________________________________________________________________\n",
            "max_pooling2d_12 (MaxPooling (None, 16, 16, 256)       0         \n",
            "_________________________________________________________________\n",
            "batch_normalization_12 (Batc (None, 16, 16, 256)       1024      \n",
            "_________________________________________________________________\n",
            "conv2d_27 (Conv2D)           (None, 16, 16, 512)       1180160   \n",
            "_________________________________________________________________\n",
            "conv2d_28 (Conv2D)           (None, 16, 16, 512)       2359808   \n",
            "_________________________________________________________________\n",
            "conv2d_29 (Conv2D)           (None, 16, 16, 512)       2359808   \n",
            "_________________________________________________________________\n",
            "max_pooling2d_13 (MaxPooling (None, 8, 8, 512)         0         \n",
            "_________________________________________________________________\n",
            "batch_normalization_13 (Batc (None, 8, 8, 512)         2048      \n",
            "_________________________________________________________________\n",
            "max_pooling2d_14 (MaxPooling (None, 4, 4, 512)         0         \n",
            "_________________________________________________________________\n",
            "batch_normalization_14 (Batc (None, 4, 4, 512)         2048      \n",
            "_________________________________________________________________\n",
            "flatten_2 (Flatten)          (None, 8192)              0         \n",
            "_________________________________________________________________\n",
            "dense_6 (Dense)              (None, 4096)              33558528  \n",
            "_________________________________________________________________\n",
            "dropout_4 (Dropout)          (None, 4096)              0         \n",
            "_________________________________________________________________\n",
            "dense_7 (Dense)              (None, 4096)              16781312  \n",
            "_________________________________________________________________\n",
            "dropout_5 (Dropout)          (None, 4096)              0         \n",
            "_________________________________________________________________\n",
            "dense_8 (Dense)              (None, 2)                 8194      \n",
            "=================================================================\n",
            "Total params: 57,989,186\n",
            "Trainable params: 57,986,242\n",
            "Non-trainable params: 2,944\n",
            "_________________________________________________________________\n"
          ],
          "name": "stdout"
        }
      ]
    },
    {
      "cell_type": "code",
      "metadata": {
        "id": "sbh16qf5G8p8"
      },
      "source": [
        "model.compile(optimizer = 'adam', \n",
        "              loss = 'categorical_crossentropy', \n",
        "              metrics = ['accuracy'])"
      ],
      "execution_count": 18,
      "outputs": []
    },
    {
      "cell_type": "code",
      "metadata": {
        "colab": {
          "base_uri": "https://localhost:8080/"
        },
        "id": "zbuTZMzRGtUN",
        "outputId": "cc088d0f-1d13-4e40-a82b-ebc65bbe3e1c"
      },
      "source": [
        "history = model.fit(X_train, y_train, \n",
        "                    batch_size = 32, \n",
        "                    epochs = 100, \n",
        "                    verbose = 1,\n",
        "                    validation_data=(X_test, y_test))"
      ],
      "execution_count": 22,
      "outputs": [
        {
          "output_type": "stream",
          "text": [
            "Epoch 1/100\n",
            "36/36 [==============================] - 15s 284ms/step - loss: 0.6698 - accuracy: 0.8383 - val_loss: 12.3753 - val_accuracy: 0.5208\n",
            "Epoch 2/100\n",
            "36/36 [==============================] - 6s 156ms/step - loss: 1.0264 - accuracy: 0.6713 - val_loss: 2.7541 - val_accuracy: 0.5208\n",
            "Epoch 3/100\n",
            "36/36 [==============================] - 5s 153ms/step - loss: 0.8971 - accuracy: 0.6043 - val_loss: 2.0925 - val_accuracy: 0.4974\n",
            "Epoch 4/100\n",
            "36/36 [==============================] - 6s 157ms/step - loss: 0.7380 - accuracy: 0.6278 - val_loss: 3.5905 - val_accuracy: 0.4948\n",
            "Epoch 5/100\n",
            "36/36 [==============================] - 6s 157ms/step - loss: 0.6789 - accuracy: 0.6791 - val_loss: 0.6438 - val_accuracy: 0.6380\n",
            "Epoch 6/100\n",
            "36/36 [==============================] - 5s 152ms/step - loss: 0.6082 - accuracy: 0.7296 - val_loss: 0.6717 - val_accuracy: 0.6328\n",
            "Epoch 7/100\n",
            "36/36 [==============================] - 6s 154ms/step - loss: 0.5532 - accuracy: 0.7687 - val_loss: 0.7183 - val_accuracy: 0.6068\n",
            "Epoch 8/100\n",
            "36/36 [==============================] - 5s 149ms/step - loss: 0.5470 - accuracy: 0.7643 - val_loss: 0.6709 - val_accuracy: 0.5859\n",
            "Epoch 9/100\n",
            "36/36 [==============================] - 5s 153ms/step - loss: 0.5034 - accuracy: 0.7887 - val_loss: 0.6799 - val_accuracy: 0.6276\n",
            "Epoch 10/100\n",
            "36/36 [==============================] - 5s 153ms/step - loss: 0.4792 - accuracy: 0.8174 - val_loss: 1.5766 - val_accuracy: 0.5260\n",
            "Epoch 11/100\n",
            "36/36 [==============================] - 5s 153ms/step - loss: 0.4836 - accuracy: 0.7887 - val_loss: 0.5246 - val_accuracy: 0.7552\n",
            "Epoch 12/100\n",
            "36/36 [==============================] - 5s 153ms/step - loss: 0.4532 - accuracy: 0.8252 - val_loss: 0.7038 - val_accuracy: 0.5703\n",
            "Epoch 13/100\n",
            "36/36 [==============================] - 5s 148ms/step - loss: 0.3842 - accuracy: 0.8383 - val_loss: 0.5489 - val_accuracy: 0.7552\n",
            "Epoch 14/100\n",
            "36/36 [==============================] - 5s 153ms/step - loss: 0.3924 - accuracy: 0.8409 - val_loss: 0.7887 - val_accuracy: 0.5885\n",
            "Epoch 15/100\n",
            "36/36 [==============================] - 5s 149ms/step - loss: 0.3701 - accuracy: 0.8496 - val_loss: 0.4990 - val_accuracy: 0.7708\n",
            "Epoch 16/100\n",
            "36/36 [==============================] - 5s 149ms/step - loss: 0.3274 - accuracy: 0.8609 - val_loss: 0.7932 - val_accuracy: 0.5365\n",
            "Epoch 17/100\n",
            "36/36 [==============================] - 6s 154ms/step - loss: 0.3100 - accuracy: 0.8757 - val_loss: 0.4548 - val_accuracy: 0.7760\n",
            "Epoch 18/100\n",
            "36/36 [==============================] - 5s 150ms/step - loss: 0.2841 - accuracy: 0.8878 - val_loss: 1.8736 - val_accuracy: 0.6745\n",
            "Epoch 19/100\n",
            "36/36 [==============================] - 5s 149ms/step - loss: 0.2825 - accuracy: 0.8965 - val_loss: 0.5645 - val_accuracy: 0.7604\n",
            "Epoch 20/100\n",
            "36/36 [==============================] - 5s 150ms/step - loss: 0.2789 - accuracy: 0.8887 - val_loss: 0.5904 - val_accuracy: 0.7891\n",
            "Epoch 21/100\n",
            "36/36 [==============================] - 6s 154ms/step - loss: 0.2002 - accuracy: 0.9270 - val_loss: 0.5815 - val_accuracy: 0.7734\n",
            "Epoch 22/100\n",
            "36/36 [==============================] - 6s 154ms/step - loss: 0.2188 - accuracy: 0.9130 - val_loss: 0.9102 - val_accuracy: 0.7188\n",
            "Epoch 23/100\n",
            "36/36 [==============================] - 5s 150ms/step - loss: 0.2346 - accuracy: 0.9043 - val_loss: 0.5974 - val_accuracy: 0.7578\n",
            "Epoch 24/100\n",
            "36/36 [==============================] - 6s 154ms/step - loss: 0.2007 - accuracy: 0.9217 - val_loss: 0.7828 - val_accuracy: 0.7578\n",
            "Epoch 25/100\n",
            "36/36 [==============================] - 5s 149ms/step - loss: 0.1871 - accuracy: 0.9261 - val_loss: 0.7481 - val_accuracy: 0.7812\n",
            "Epoch 26/100\n",
            "36/36 [==============================] - 5s 149ms/step - loss: 0.1999 - accuracy: 0.9226 - val_loss: 0.5598 - val_accuracy: 0.7995\n",
            "Epoch 27/100\n",
            "36/36 [==============================] - 6s 153ms/step - loss: 0.2279 - accuracy: 0.9139 - val_loss: 3.7147 - val_accuracy: 0.5573\n",
            "Epoch 28/100\n",
            "36/36 [==============================] - 6s 154ms/step - loss: 0.2977 - accuracy: 0.9017 - val_loss: 1.0749 - val_accuracy: 0.7240\n",
            "Epoch 29/100\n",
            "36/36 [==============================] - 5s 149ms/step - loss: 0.2177 - accuracy: 0.9209 - val_loss: 7.5787 - val_accuracy: 0.5573\n",
            "Epoch 30/100\n",
            "36/36 [==============================] - 5s 149ms/step - loss: 0.1848 - accuracy: 0.9339 - val_loss: 0.8698 - val_accuracy: 0.7891\n",
            "Epoch 31/100\n",
            "36/36 [==============================] - 5s 149ms/step - loss: 0.1614 - accuracy: 0.9391 - val_loss: 0.7601 - val_accuracy: 0.8333\n",
            "Epoch 32/100\n",
            "36/36 [==============================] - 6s 154ms/step - loss: 0.1015 - accuracy: 0.9652 - val_loss: 1.5869 - val_accuracy: 0.7917\n",
            "Epoch 33/100\n",
            "36/36 [==============================] - 6s 154ms/step - loss: 0.1591 - accuracy: 0.9522 - val_loss: 1.0630 - val_accuracy: 0.7812\n",
            "Epoch 34/100\n",
            "36/36 [==============================] - 6s 154ms/step - loss: 0.1423 - accuracy: 0.9487 - val_loss: 1.1852 - val_accuracy: 0.7656\n",
            "Epoch 35/100\n",
            "36/36 [==============================] - 5s 150ms/step - loss: 0.1458 - accuracy: 0.9496 - val_loss: 0.9051 - val_accuracy: 0.7604\n",
            "Epoch 36/100\n",
            "36/36 [==============================] - 5s 149ms/step - loss: 0.1124 - accuracy: 0.9600 - val_loss: 2.2635 - val_accuracy: 0.7839\n",
            "Epoch 37/100\n",
            "36/36 [==============================] - 6s 154ms/step - loss: 0.1521 - accuracy: 0.9557 - val_loss: 1.3170 - val_accuracy: 0.8229\n",
            "Epoch 38/100\n",
            "36/36 [==============================] - 6s 154ms/step - loss: 0.1167 - accuracy: 0.9626 - val_loss: 1.9247 - val_accuracy: 0.7422\n",
            "Epoch 39/100\n",
            "36/36 [==============================] - 6s 154ms/step - loss: 0.0810 - accuracy: 0.9739 - val_loss: 1.2053 - val_accuracy: 0.7760\n",
            "Epoch 40/100\n",
            "36/36 [==============================] - 5s 149ms/step - loss: 0.0738 - accuracy: 0.9765 - val_loss: 1.8230 - val_accuracy: 0.7708\n",
            "Epoch 41/100\n",
            "36/36 [==============================] - 6s 154ms/step - loss: 0.0923 - accuracy: 0.9678 - val_loss: 2.3411 - val_accuracy: 0.6953\n",
            "Epoch 42/100\n",
            "36/36 [==============================] - 5s 150ms/step - loss: 0.1732 - accuracy: 0.9452 - val_loss: 2.1197 - val_accuracy: 0.7917\n",
            "Epoch 43/100\n",
            "36/36 [==============================] - 5s 150ms/step - loss: 0.1256 - accuracy: 0.9609 - val_loss: 1.8626 - val_accuracy: 0.7240\n",
            "Epoch 44/100\n",
            "36/36 [==============================] - 6s 154ms/step - loss: 0.1055 - accuracy: 0.9591 - val_loss: 1.7542 - val_accuracy: 0.8177\n",
            "Epoch 45/100\n",
            "36/36 [==============================] - 6s 154ms/step - loss: 0.0886 - accuracy: 0.9713 - val_loss: 1.3860 - val_accuracy: 0.7839\n",
            "Epoch 46/100\n",
            "36/36 [==============================] - 5s 149ms/step - loss: 0.0850 - accuracy: 0.9704 - val_loss: 3.2519 - val_accuracy: 0.7943\n",
            "Epoch 47/100\n",
            "36/36 [==============================] - 6s 154ms/step - loss: 0.0901 - accuracy: 0.9713 - val_loss: 1.6258 - val_accuracy: 0.8099\n",
            "Epoch 48/100\n",
            "36/36 [==============================] - 5s 150ms/step - loss: 0.1603 - accuracy: 0.9504 - val_loss: 4.8446 - val_accuracy: 0.7578\n",
            "Epoch 49/100\n",
            "36/36 [==============================] - 5s 149ms/step - loss: 0.1278 - accuracy: 0.9548 - val_loss: 1.4073 - val_accuracy: 0.7917\n",
            "Epoch 50/100\n",
            "36/36 [==============================] - 6s 154ms/step - loss: 0.1150 - accuracy: 0.9661 - val_loss: 1.3467 - val_accuracy: 0.8203\n",
            "Epoch 51/100\n",
            "36/36 [==============================] - 6s 154ms/step - loss: 0.1047 - accuracy: 0.9635 - val_loss: 3.1614 - val_accuracy: 0.7969\n",
            "Epoch 52/100\n",
            "36/36 [==============================] - 5s 150ms/step - loss: 0.1178 - accuracy: 0.9626 - val_loss: 1.5604 - val_accuracy: 0.8281\n",
            "Epoch 53/100\n",
            "36/36 [==============================] - 5s 149ms/step - loss: 0.2470 - accuracy: 0.9113 - val_loss: 6.4917 - val_accuracy: 0.6875\n",
            "Epoch 54/100\n",
            "36/36 [==============================] - 5s 150ms/step - loss: 0.2155 - accuracy: 0.9252 - val_loss: 4.9641 - val_accuracy: 0.7240\n",
            "Epoch 55/100\n",
            "36/36 [==============================] - 6s 154ms/step - loss: 0.1656 - accuracy: 0.9348 - val_loss: 1.2128 - val_accuracy: 0.7839\n",
            "Epoch 56/100\n",
            "36/36 [==============================] - 5s 153ms/step - loss: 0.0902 - accuracy: 0.9678 - val_loss: 1.5228 - val_accuracy: 0.8255\n",
            "Epoch 57/100\n",
            "36/36 [==============================] - 5s 150ms/step - loss: 0.0932 - accuracy: 0.9678 - val_loss: 1.0067 - val_accuracy: 0.8229\n",
            "Epoch 58/100\n",
            "36/36 [==============================] - 6s 154ms/step - loss: 0.0490 - accuracy: 0.9843 - val_loss: 1.6221 - val_accuracy: 0.8099\n",
            "Epoch 59/100\n",
            "36/36 [==============================] - 6s 154ms/step - loss: 0.6724 - accuracy: 0.7809 - val_loss: 1.6459 - val_accuracy: 0.5443\n",
            "Epoch 60/100\n",
            "36/36 [==============================] - 5s 149ms/step - loss: 0.6380 - accuracy: 0.7130 - val_loss: 1.4807 - val_accuracy: 0.5495\n",
            "Epoch 61/100\n",
            "36/36 [==============================] - 5s 149ms/step - loss: 0.4977 - accuracy: 0.8078 - val_loss: 0.6160 - val_accuracy: 0.7448\n",
            "Epoch 62/100\n",
            "36/36 [==============================] - 5s 149ms/step - loss: 0.3790 - accuracy: 0.8470 - val_loss: 0.5573 - val_accuracy: 0.8125\n",
            "Epoch 63/100\n",
            "36/36 [==============================] - 6s 153ms/step - loss: 0.2968 - accuracy: 0.8878 - val_loss: 0.9097 - val_accuracy: 0.7943\n",
            "Epoch 64/100\n",
            "36/36 [==============================] - 5s 149ms/step - loss: 0.2551 - accuracy: 0.9087 - val_loss: 0.7438 - val_accuracy: 0.8021\n",
            "Epoch 65/100\n",
            "36/36 [==============================] - 5s 149ms/step - loss: 0.1879 - accuracy: 0.9313 - val_loss: 0.6275 - val_accuracy: 0.8229\n",
            "Epoch 66/100\n",
            "36/36 [==============================] - 5s 149ms/step - loss: 0.1913 - accuracy: 0.9287 - val_loss: 0.9904 - val_accuracy: 0.7578\n",
            "Epoch 67/100\n",
            "36/36 [==============================] - 6s 154ms/step - loss: 0.1974 - accuracy: 0.9287 - val_loss: 1.9625 - val_accuracy: 0.7995\n",
            "Epoch 68/100\n",
            "36/36 [==============================] - 5s 153ms/step - loss: 0.1722 - accuracy: 0.9348 - val_loss: 0.7024 - val_accuracy: 0.8385\n",
            "Epoch 69/100\n",
            "36/36 [==============================] - 5s 149ms/step - loss: 0.1081 - accuracy: 0.9557 - val_loss: 0.9614 - val_accuracy: 0.8359\n",
            "Epoch 70/100\n",
            "36/36 [==============================] - 6s 154ms/step - loss: 0.1044 - accuracy: 0.9687 - val_loss: 1.2114 - val_accuracy: 0.8385\n",
            "Epoch 71/100\n",
            "36/36 [==============================] - 5s 153ms/step - loss: 0.0654 - accuracy: 0.9757 - val_loss: 1.2683 - val_accuracy: 0.7812\n",
            "Epoch 72/100\n",
            "36/36 [==============================] - 5s 149ms/step - loss: 0.0724 - accuracy: 0.9748 - val_loss: 1.5748 - val_accuracy: 0.7943\n",
            "Epoch 73/100\n",
            "36/36 [==============================] - 6s 153ms/step - loss: 0.0643 - accuracy: 0.9791 - val_loss: 2.2382 - val_accuracy: 0.7995\n",
            "Epoch 74/100\n",
            "36/36 [==============================] - 5s 148ms/step - loss: 0.1069 - accuracy: 0.9687 - val_loss: 1.1743 - val_accuracy: 0.7839\n",
            "Epoch 75/100\n",
            "36/36 [==============================] - 6s 153ms/step - loss: 0.1017 - accuracy: 0.9652 - val_loss: 1.0449 - val_accuracy: 0.8464\n",
            "Epoch 76/100\n",
            "36/36 [==============================] - 6s 154ms/step - loss: 0.1025 - accuracy: 0.9739 - val_loss: 1.1606 - val_accuracy: 0.8047\n",
            "Epoch 77/100\n",
            "36/36 [==============================] - 6s 154ms/step - loss: 0.0534 - accuracy: 0.9826 - val_loss: 0.9983 - val_accuracy: 0.8333\n",
            "Epoch 78/100\n",
            "36/36 [==============================] - 5s 149ms/step - loss: 0.0337 - accuracy: 0.9887 - val_loss: 1.2155 - val_accuracy: 0.8438\n",
            "Epoch 79/100\n",
            "36/36 [==============================] - 6s 154ms/step - loss: 0.0386 - accuracy: 0.9887 - val_loss: 1.3070 - val_accuracy: 0.8359\n",
            "Epoch 80/100\n",
            "36/36 [==============================] - 5s 149ms/step - loss: 0.0680 - accuracy: 0.9817 - val_loss: 3.1208 - val_accuracy: 0.8099\n",
            "Epoch 81/100\n",
            "36/36 [==============================] - 5s 153ms/step - loss: 0.0509 - accuracy: 0.9843 - val_loss: 1.2078 - val_accuracy: 0.8568\n",
            "Epoch 82/100\n",
            "36/36 [==============================] - 5s 153ms/step - loss: 0.0552 - accuracy: 0.9843 - val_loss: 1.1911 - val_accuracy: 0.8203\n",
            "Epoch 83/100\n",
            "36/36 [==============================] - 6s 154ms/step - loss: 0.0356 - accuracy: 0.9870 - val_loss: 1.2345 - val_accuracy: 0.8385\n",
            "Epoch 84/100\n",
            "36/36 [==============================] - 5s 149ms/step - loss: 0.0333 - accuracy: 0.9930 - val_loss: 1.1557 - val_accuracy: 0.8125\n",
            "Epoch 85/100\n",
            "36/36 [==============================] - 6s 154ms/step - loss: 0.0436 - accuracy: 0.9896 - val_loss: 4.9042 - val_accuracy: 0.7682\n",
            "Epoch 86/100\n",
            "36/36 [==============================] - 5s 149ms/step - loss: 0.0465 - accuracy: 0.9852 - val_loss: 5.4770 - val_accuracy: 0.8281\n",
            "Epoch 87/100\n",
            "36/36 [==============================] - 6s 154ms/step - loss: 0.0383 - accuracy: 0.9861 - val_loss: 6.7953 - val_accuracy: 0.8307\n",
            "Epoch 88/100\n",
            "36/36 [==============================] - 6s 154ms/step - loss: 0.0275 - accuracy: 0.9913 - val_loss: 9.6389 - val_accuracy: 0.8255\n",
            "Epoch 89/100\n",
            "36/36 [==============================] - 6s 154ms/step - loss: 0.0549 - accuracy: 0.9852 - val_loss: 14.8747 - val_accuracy: 0.8359\n",
            "Epoch 90/100\n",
            "36/36 [==============================] - 5s 149ms/step - loss: 0.0487 - accuracy: 0.9861 - val_loss: 3.2958 - val_accuracy: 0.8281\n",
            "Epoch 91/100\n",
            "36/36 [==============================] - 6s 154ms/step - loss: 0.0370 - accuracy: 0.9878 - val_loss: 2.5540 - val_accuracy: 0.8255\n",
            "Epoch 92/100\n",
            "36/36 [==============================] - 5s 149ms/step - loss: 0.0374 - accuracy: 0.9896 - val_loss: 2.5538 - val_accuracy: 0.8177\n",
            "Epoch 93/100\n",
            "36/36 [==============================] - 6s 154ms/step - loss: 0.0366 - accuracy: 0.9870 - val_loss: 1.8565 - val_accuracy: 0.8490\n",
            "Epoch 94/100\n",
            "36/36 [==============================] - 5s 149ms/step - loss: 0.0455 - accuracy: 0.9870 - val_loss: 2.0057 - val_accuracy: 0.7917\n",
            "Epoch 95/100\n",
            "36/36 [==============================] - 5s 149ms/step - loss: 0.0777 - accuracy: 0.9809 - val_loss: 5.4896 - val_accuracy: 0.8151\n",
            "Epoch 96/100\n",
            "36/36 [==============================] - 6s 154ms/step - loss: 0.0921 - accuracy: 0.9739 - val_loss: 2.7690 - val_accuracy: 0.8594\n",
            "Epoch 97/100\n",
            "36/36 [==============================] - 5s 149ms/step - loss: 0.1310 - accuracy: 0.9704 - val_loss: 7.3385 - val_accuracy: 0.8229\n",
            "Epoch 98/100\n",
            "36/36 [==============================] - 5s 149ms/step - loss: 0.0796 - accuracy: 0.9748 - val_loss: 18.6300 - val_accuracy: 0.7708\n",
            "Epoch 99/100\n",
            "36/36 [==============================] - 6s 154ms/step - loss: 0.1122 - accuracy: 0.9713 - val_loss: 5.6797 - val_accuracy: 0.8047\n",
            "Epoch 100/100\n",
            "36/36 [==============================] - 5s 149ms/step - loss: 0.1888 - accuracy: 0.9522 - val_loss: 3.1419 - val_accuracy: 0.8151\n"
          ],
          "name": "stdout"
        }
      ]
    },
    {
      "cell_type": "code",
      "metadata": {
        "colab": {
          "base_uri": "https://localhost:8080/",
          "height": 265
        },
        "id": "ZDwn9WEJNlfc",
        "outputId": "5785fb44-fc21-4158-d5a2-69864a84d1d8"
      },
      "source": [
        "plt.plot(history.history['accuracy'])\n",
        "plt.plot(history.history['val_accuracy'])\n",
        "plt.legend(['epoch', 'validation'], loc = 'upper left')\n",
        "plt.show()"
      ],
      "execution_count": 23,
      "outputs": [
        {
          "output_type": "display_data",
          "data": {
            "image/png": "[encoded data removed]",
            "text/plain": [
              "<Figure size 432x288 with 1 Axes>"
            ]
          },
          "metadata": {
            "needs_background": "light"
          }
        }
      ]
    },
    {
      "cell_type": "code",
      "metadata": {
        "colab": {
          "base_uri": "https://localhost:8080/",
          "height": 279
        },
        "id": "M_iVvf8INqG0",
        "outputId": "7db54f71-7907-4d8c-e43f-ed1593c98057"
      },
      "source": [
        "y_vloss = history.history['val_loss']\n",
        "y_loss = history.history['loss']\n",
        "\n",
        "x_len = np.arange(len(y_loss))\n",
        "\n",
        "plt.plot(x_len, y_vloss, marker='.', c='red', label='val_set_loss')\n",
        "plt.plot(x_len, y_loss, marker='.', c='blue', label='train_set_oss')\n",
        "plt.legend()\n",
        "plt.xlabel('epochs')\n",
        "plt.ylabel('loss')\n",
        "plt.grid()\n",
        "plt.show()"
      ],
      "execution_count": 24,
      "outputs": [
        {
          "output_type": "display_data",
          "data": {
            "image/png": "[encoded data removed]",
            "text/plain": [
              "<Figure size 432x288 with 1 Axes>"
            ]
          },
          "metadata": {
            "needs_background": "light"
          }
        }
      ]
    }
  ]
}